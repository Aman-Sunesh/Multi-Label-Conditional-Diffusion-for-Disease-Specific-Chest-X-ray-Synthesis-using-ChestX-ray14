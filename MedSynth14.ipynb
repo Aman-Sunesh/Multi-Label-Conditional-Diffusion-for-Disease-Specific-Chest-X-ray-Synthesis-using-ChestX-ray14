{
 "cells": [
  {
   "cell_type": "markdown",
   "id": "0fce639b",
   "metadata": {},
   "source": [
    "# Multi-Label Conditional Diffusion for Disease-Specific Chest X-ray Synthesis using ChestX-ray14"
   ]
  },
  {
   "cell_type": "markdown",
   "id": "6e6cb473",
   "metadata": {},
   "source": [
    "## Import the Required Libraries"
   ]
  },
  {
   "cell_type": "code",
   "execution_count": 1,
   "id": "c040a4c0",
   "metadata": {},
   "outputs": [
    {
     "name": "stdout",
     "output_type": "stream",
     "text": [
      "Requirement already satisfied: torch in c:\\users\\asust\\anaconda3\\lib\\site-packages (2.7.1)\n",
      "Requirement already satisfied: matplotlib in c:\\users\\asust\\anaconda3\\lib\\site-packages (3.9.2)\n",
      "Requirement already satisfied: diffusers in c:\\users\\asust\\anaconda3\\lib\\site-packages (0.34.0)\n",
      "Requirement already satisfied: pandas in c:\\users\\asust\\anaconda3\\lib\\site-packages (2.2.2)\n",
      "Requirement already satisfied: numpy in c:\\users\\asust\\anaconda3\\lib\\site-packages (1.26.4)\n",
      "Requirement already satisfied: kaggle in c:\\users\\asust\\anaconda3\\lib\\site-packages (1.7.4.5)\n",
      "Requirement already satisfied: gradio in c:\\users\\asust\\anaconda3\\lib\\site-packages (5.36.2)\n",
      "Requirement already satisfied: tqdm in c:\\users\\asust\\anaconda3\\lib\\site-packages (4.66.5)\n",
      "Requirement already satisfied: filelock in c:\\users\\asust\\anaconda3\\lib\\site-packages (from torch) (3.13.1)\n",
      "Requirement already satisfied: typing-extensions>=4.10.0 in c:\\users\\asust\\anaconda3\\lib\\site-packages (from torch) (4.11.0)\n",
      "Requirement already satisfied: sympy>=1.13.3 in c:\\users\\asust\\anaconda3\\lib\\site-packages (from torch) (1.14.0)\n",
      "Requirement already satisfied: networkx in c:\\users\\asust\\anaconda3\\lib\\site-packages (from torch) (3.3)\n",
      "Requirement already satisfied: jinja2 in c:\\users\\asust\\anaconda3\\lib\\site-packages (from torch) (3.1.4)\n",
      "Requirement already satisfied: fsspec in c:\\users\\asust\\anaconda3\\lib\\site-packages (from torch) (2024.6.1)\n",
      "Requirement already satisfied: setuptools in c:\\users\\asust\\anaconda3\\lib\\site-packages (from torch) (75.1.0)\n",
      "Requirement already satisfied: contourpy>=1.0.1 in c:\\users\\asust\\anaconda3\\lib\\site-packages (from matplotlib) (1.2.0)\n",
      "Requirement already satisfied: cycler>=0.10 in c:\\users\\asust\\anaconda3\\lib\\site-packages (from matplotlib) (0.11.0)\n",
      "Requirement already satisfied: fonttools>=4.22.0 in c:\\users\\asust\\anaconda3\\lib\\site-packages (from matplotlib) (4.51.0)\n",
      "Requirement already satisfied: kiwisolver>=1.3.1 in c:\\users\\asust\\anaconda3\\lib\\site-packages (from matplotlib) (1.4.4)\n",
      "Requirement already satisfied: packaging>=20.0 in c:\\users\\asust\\anaconda3\\lib\\site-packages (from matplotlib) (24.1)\n",
      "Requirement already satisfied: pillow>=8 in c:\\users\\asust\\anaconda3\\lib\\site-packages (from matplotlib) (10.4.0)\n",
      "Requirement already satisfied: pyparsing>=2.3.1 in c:\\users\\asust\\anaconda3\\lib\\site-packages (from matplotlib) (3.1.2)\n",
      "Requirement already satisfied: python-dateutil>=2.7 in c:\\users\\asust\\anaconda3\\lib\\site-packages (from matplotlib) (2.9.0.post0)\n",
      "Requirement already satisfied: importlib_metadata in c:\\users\\asust\\anaconda3\\lib\\site-packages (from diffusers) (7.0.1)\n",
      "Requirement already satisfied: huggingface-hub>=0.27.0 in c:\\users\\asust\\anaconda3\\lib\\site-packages (from diffusers) (0.33.4)\n",
      "Requirement already satisfied: regex!=2019.12.17 in c:\\users\\asust\\anaconda3\\lib\\site-packages (from diffusers) (2024.9.11)\n",
      "Requirement already satisfied: requests in c:\\users\\asust\\anaconda3\\lib\\site-packages (from diffusers) (2.32.3)\n",
      "Requirement already satisfied: safetensors>=0.3.1 in c:\\users\\asust\\anaconda3\\lib\\site-packages (from diffusers) (0.5.3)\n",
      "Requirement already satisfied: pytz>=2020.1 in c:\\users\\asust\\anaconda3\\lib\\site-packages (from pandas) (2024.1)\n",
      "Requirement already satisfied: tzdata>=2022.7 in c:\\users\\asust\\anaconda3\\lib\\site-packages (from pandas) (2023.3)\n",
      "Requirement already satisfied: bleach in c:\\users\\asust\\anaconda3\\lib\\site-packages (from kaggle) (4.1.0)\n",
      "Requirement already satisfied: certifi>=14.05.14 in c:\\users\\asust\\anaconda3\\lib\\site-packages (from kaggle) (2025.1.31)\n",
      "Requirement already satisfied: charset-normalizer in c:\\users\\asust\\anaconda3\\lib\\site-packages (from kaggle) (3.3.2)\n",
      "Requirement already satisfied: idna in c:\\users\\asust\\anaconda3\\lib\\site-packages (from kaggle) (3.7)\n",
      "Requirement already satisfied: protobuf in c:\\users\\asust\\anaconda3\\lib\\site-packages (from kaggle) (4.25.3)\n",
      "Requirement already satisfied: python-slugify in c:\\users\\asust\\anaconda3\\lib\\site-packages (from kaggle) (5.0.2)\n",
      "Requirement already satisfied: six>=1.10 in c:\\users\\asust\\anaconda3\\lib\\site-packages (from kaggle) (1.16.0)\n",
      "Requirement already satisfied: text-unidecode in c:\\users\\asust\\anaconda3\\lib\\site-packages (from kaggle) (1.3)\n",
      "Requirement already satisfied: urllib3>=1.15.1 in c:\\users\\asust\\anaconda3\\lib\\site-packages (from kaggle) (2.2.3)\n",
      "Requirement already satisfied: webencodings in c:\\users\\asust\\anaconda3\\lib\\site-packages (from kaggle) (0.5.1)\n",
      "Requirement already satisfied: aiofiles<25.0,>=22.0 in c:\\users\\asust\\anaconda3\\lib\\site-packages (from gradio) (24.1.0)\n",
      "Requirement already satisfied: anyio<5.0,>=3.0 in c:\\users\\asust\\anaconda3\\lib\\site-packages (from gradio) (4.2.0)\n",
      "Requirement already satisfied: brotli>=1.1.0 in c:\\users\\asust\\anaconda3\\lib\\site-packages (from gradio) (1.1.0)\n",
      "Requirement already satisfied: fastapi<1.0,>=0.115.2 in c:\\users\\asust\\anaconda3\\lib\\site-packages (from gradio) (0.116.1)\n",
      "Requirement already satisfied: ffmpy in c:\\users\\asust\\anaconda3\\lib\\site-packages (from gradio) (0.6.0)\n",
      "Requirement already satisfied: gradio-client==1.10.4 in c:\\users\\asust\\anaconda3\\lib\\site-packages (from gradio) (1.10.4)\n",
      "Requirement already satisfied: groovy~=0.1 in c:\\users\\asust\\anaconda3\\lib\\site-packages (from gradio) (0.1.2)\n",
      "Requirement already satisfied: httpx<1.0,>=0.24.1 in c:\\users\\asust\\anaconda3\\lib\\site-packages (from gradio) (0.27.0)\n",
      "Requirement already satisfied: markupsafe<4.0,>=2.0 in c:\\users\\asust\\anaconda3\\lib\\site-packages (from gradio) (2.1.3)\n",
      "Requirement already satisfied: orjson~=3.0 in c:\\users\\asust\\anaconda3\\lib\\site-packages (from gradio) (3.10.18)\n",
      "Requirement already satisfied: pydantic<2.12,>=2.0 in c:\\users\\asust\\anaconda3\\lib\\site-packages (from gradio) (2.8.2)\n",
      "Requirement already satisfied: pydub in c:\\users\\asust\\anaconda3\\lib\\site-packages (from gradio) (0.25.1)\n",
      "Requirement already satisfied: python-multipart>=0.0.18 in c:\\users\\asust\\anaconda3\\lib\\site-packages (from gradio) (0.0.20)\n",
      "Requirement already satisfied: pyyaml<7.0,>=5.0 in c:\\users\\asust\\anaconda3\\lib\\site-packages (from gradio) (6.0.1)\n",
      "Requirement already satisfied: ruff>=0.9.3 in c:\\users\\asust\\anaconda3\\lib\\site-packages (from gradio) (0.12.3)\n",
      "Requirement already satisfied: safehttpx<0.2.0,>=0.1.6 in c:\\users\\asust\\anaconda3\\lib\\site-packages (from gradio) (0.1.6)\n",
      "Requirement already satisfied: semantic-version~=2.0 in c:\\users\\asust\\anaconda3\\lib\\site-packages (from gradio) (2.10.0)\n",
      "Requirement already satisfied: starlette<1.0,>=0.40.0 in c:\\users\\asust\\anaconda3\\lib\\site-packages (from gradio) (0.47.1)\n",
      "Requirement already satisfied: tomlkit<0.14.0,>=0.12.0 in c:\\users\\asust\\anaconda3\\lib\\site-packages (from gradio) (0.13.3)\n",
      "Requirement already satisfied: typer<1.0,>=0.12 in c:\\users\\asust\\anaconda3\\lib\\site-packages (from gradio) (0.16.0)\n",
      "Requirement already satisfied: uvicorn>=0.14.0 in c:\\users\\asust\\anaconda3\\lib\\site-packages (from gradio) (0.35.0)\n",
      "Requirement already satisfied: websockets<16.0,>=10.0 in c:\\users\\asust\\anaconda3\\lib\\site-packages (from gradio-client==1.10.4->gradio) (15.0.1)\n",
      "Requirement already satisfied: colorama in c:\\users\\asust\\appdata\\roaming\\python\\python312\\site-packages (from tqdm) (0.4.6)\n",
      "Requirement already satisfied: sniffio>=1.1 in c:\\users\\asust\\anaconda3\\lib\\site-packages (from anyio<5.0,>=3.0->gradio) (1.3.0)\n",
      "Requirement already satisfied: httpcore==1.* in c:\\users\\asust\\anaconda3\\lib\\site-packages (from httpx<1.0,>=0.24.1->gradio) (1.0.2)\n",
      "Requirement already satisfied: h11<0.15,>=0.13 in c:\\users\\asust\\anaconda3\\lib\\site-packages (from httpcore==1.*->httpx<1.0,>=0.24.1->gradio) (0.14.0)\n",
      "Requirement already satisfied: annotated-types>=0.4.0 in c:\\users\\asust\\anaconda3\\lib\\site-packages (from pydantic<2.12,>=2.0->gradio) (0.6.0)\n",
      "Requirement already satisfied: pydantic-core==2.20.1 in c:\\users\\asust\\anaconda3\\lib\\site-packages (from pydantic<2.12,>=2.0->gradio) (2.20.1)\n",
      "Requirement already satisfied: mpmath<1.4,>=1.1.0 in c:\\users\\asust\\anaconda3\\lib\\site-packages (from sympy>=1.13.3->torch) (1.3.0)\n",
      "Requirement already satisfied: click>=8.0.0 in c:\\users\\asust\\anaconda3\\lib\\site-packages (from typer<1.0,>=0.12->gradio) (8.1.7)\n",
      "Requirement already satisfied: shellingham>=1.3.0 in c:\\users\\asust\\anaconda3\\lib\\site-packages (from typer<1.0,>=0.12->gradio) (1.5.0)\n",
      "Requirement already satisfied: rich>=10.11.0 in c:\\users\\asust\\anaconda3\\lib\\site-packages (from typer<1.0,>=0.12->gradio) (13.7.1)\n",
      "Requirement already satisfied: zipp>=0.5 in c:\\users\\asust\\anaconda3\\lib\\site-packages (from importlib_metadata->diffusers) (3.17.0)\n",
      "Requirement already satisfied: markdown-it-py>=2.2.0 in c:\\users\\asust\\anaconda3\\lib\\site-packages (from rich>=10.11.0->typer<1.0,>=0.12->gradio) (2.2.0)\n",
      "Requirement already satisfied: pygments<3.0.0,>=2.13.0 in c:\\users\\asust\\appdata\\roaming\\python\\python312\\site-packages (from rich>=10.11.0->typer<1.0,>=0.12->gradio) (2.18.0)\n",
      "Requirement already satisfied: mdurl~=0.1 in c:\\users\\asust\\anaconda3\\lib\\site-packages (from markdown-it-py>=2.2.0->rich>=10.11.0->typer<1.0,>=0.12->gradio) (0.1.0)\n"
     ]
    }
   ],
   "source": [
    "!pip install torch matplotlib diffusers pandas numpy kaggle gradio tqdm"
   ]
  },
  {
   "cell_type": "code",
   "execution_count": 2,
   "id": "c4d6ee1a",
   "metadata": {},
   "outputs": [
    {
     "data": {
      "text/plain": [
       "<torch._C.Generator at 0x17c06a9cdf0>"
      ]
     },
     "execution_count": 2,
     "metadata": {},
     "output_type": "execute_result"
    }
   ],
   "source": [
    "import os\n",
    "import random\n",
    "import pathlib\n",
    "import numpy as np\n",
    "import pandas as pd\n",
    "from PIL import Image\n",
    "import torch\n",
    "import torch.nn as nn\n",
    "import torch.nn.functional as F\n",
    "from torch.utils.data import Dataset, DataLoader\n",
    "from torchvision import transforms\n",
    "from kaggle.api.kaggle_api_extended import KaggleApi\n",
    "import matplotlib.pyplot as plt\n",
    "from tqdm.auto import tqdm\n",
    "import gradio as gr\n",
    "%matplotlib inline\n",
    "\n",
    "# For reproducibility\n",
    "random.seed(42)\n",
    "np.random.seed(42)\n",
    "torch.manual_seed(42)"
   ]
  },
  {
   "cell_type": "markdown",
   "id": "fcb83ebe",
   "metadata": {},
   "source": [
    "## Data Preparation"
   ]
  },
  {
   "cell_type": "code",
   "execution_count": 3,
   "id": "5ae058e0",
   "metadata": {},
   "outputs": [],
   "source": [
    "# Authenticate\n",
    "api = KaggleApi()\n",
    "api.authenticate()"
   ]
  },
  {
   "cell_type": "code",
   "execution_count": 4,
   "id": "3e347108",
   "metadata": {},
   "outputs": [],
   "source": [
    "# Make base directories\n",
    "base = pathlib.Path(\"./data\")"
   ]
  },
  {
   "cell_type": "code",
   "execution_count": 5,
   "id": "1bde7819",
   "metadata": {},
   "outputs": [],
   "source": [
    "# # Download & unzip into train folders\n",
    "# api.dataset_download_files(\n",
    "#     \"nih-chest-xrays/data\",\n",
    "#     path = str(base / 'train'),\n",
    "#     unzip = False\n",
    "# )"
   ]
  },
  {
   "cell_type": "code",
   "execution_count": 6,
   "id": "d1e880c2",
   "metadata": {},
   "outputs": [],
   "source": [
    "DISEASES = ['Atelectasis','Cardiomegaly','Effusion','Infiltration',\n",
    "            'Mass','Nodule','Pneumonia','Pneumothorax',\n",
    "            'Consolidation','Edema','Emphysema','Fibrosis',\n",
    "            'Pleural_Thickening','Hernia']\n",
    "\n",
    "def encode_labels(disease):\n",
    "    onehot=[0]*14\n",
    "\n",
    "    for i, d in enumerate(DISEASES):\n",
    "        if d in str(disease).split(\"|\"):\n",
    "            onehot[i] = 1\n",
    "    \n",
    "    return onehot"
   ]
  },
  {
   "cell_type": "code",
   "execution_count": 7,
   "id": "98e5bd6c",
   "metadata": {},
   "outputs": [],
   "source": [
    "train_transform = transforms.Compose([\n",
    "    transforms.Resize((256, 256)),\n",
    "    transforms.Grayscale(num_output_channels=1),\n",
    "    transforms.RandomHorizontalFlip(),\n",
    "    transforms.RandomRotation(10),\n",
    "    transforms.ToTensor(), \n",
    "    transforms.Normalize((0.5,), (0.5,))        \n",
    "])\n",
    "\n",
    "val_transform = transforms.Compose([\n",
    "    transforms.Resize((256, 256)),\n",
    "    transforms.Grayscale(num_output_channels=1),\n",
    "    transforms.ToTensor(), \n",
    "    transforms.Normalize((0.5,), (0.5,))        \n",
    "])"
   ]
  },
  {
   "cell_type": "code",
   "execution_count": 8,
   "id": "68df7bea",
   "metadata": {},
   "outputs": [],
   "source": [
    "class XRayDataset(Dataset):\n",
    "    def __init__(self, transform, root_img_dir, csv_path):\n",
    "        self.df = pd.read_csv(csv_path)\n",
    "        self.root = pathlib.Path(root_img_dir)\n",
    "        self.transform = transform \n",
    "    \n",
    "    def __len__(self):\n",
    "        return len(self.df)\n",
    "    \n",
    "    def __getitem__(self, idx):\n",
    "        row = self.df.iloc[idx]\n",
    "        img_path = self.root / row['Image Index']\n",
    "        img = Image.open(img_path).convert('L')\n",
    "\n",
    "        if self.transform: \n",
    "            img = self.transform(img)\n",
    "\n",
    "        onehot = torch.tensor(encode_labels(row['Finding Labels']),\n",
    "                              dtype=torch.float)\n",
    "\n",
    "        return img, onehot"
   ]
  },
  {
   "cell_type": "code",
   "execution_count": 9,
   "id": "532a79c8",
   "metadata": {},
   "outputs": [],
   "source": [
    "img_dir = pathlib.Path(r\"C:\\Users\\asust\\Documents\\Medical Diffusion Model\\data\")\n",
    "img_file_paths = list(img_dir.glob(\"*.png\"))\n",
    "available_imgs = set()   # For fast look-up, and to ensure no duplicates\n",
    "\n",
    "for img_path in img_file_paths:\n",
    "    filename = img_path.name\n",
    "    available_imgs.add(filename)\n",
    "\n",
    "df = pd.read_csv(r\"C:\\Users\\asust\\Documents\\Medical Diffusion Model\\Data_Entry_2017.csv\")\n",
    "\n",
    "# Filter only rows where image is present in your folder\n",
    "df_filtered = df[df[\"Image Index\"].isin(available_imgs)]\n",
    "\n",
    "# Save the filtered CSV\n",
    "df_filtered.to_csv(r\"C:\\Users\\asust\\Documents\\Medical Diffusion Model\\sample_metadata.csv\", index=False)"
   ]
  },
  {
   "cell_type": "code",
   "execution_count": null,
   "id": "d728c6d4",
   "metadata": {},
   "outputs": [],
   "source": [
    "bs = 32\n",
    "csv_path = r\"C:\\Users\\asust\\Documents\\Medical Diffusion Model\\sample_metadata.csv\"\n",
    "root_dir = r\"C:\\Users\\asust\\Documents\\Medical Diffusion Model\\data\"\n",
    "\n",
    "train_ds = XRayDataset(train_transform, root_dir, csv_path)\n",
    "train_dl = DataLoader(train_ds, batch_size=bs, shuffle=True,  num_workers=0)"
   ]
  },
  {
   "cell_type": "code",
   "execution_count": null,
   "id": "f7e05f5e",
   "metadata": {},
   "outputs": [],
   "source": [
    "imgs, labels = next(iter(train_dl))\n",
    "imgs_vis = imgs[:4]*0.5+0.5\n",
    "\n",
    "fig, axes = plt.subplots(4,1,figsize=(4,8))\n",
    "for i in range(4):\n",
    "    axes[i].imshow(imgs_vis[i].permute(1,2,0), cmap='gray')\n",
    "    title = ' '.join([d for d,flag in zip(DISEASES, labels[i]) if flag==1])\n",
    "    axes[i].set_title(title if title else 'No Finding')\n",
    "    axes[i].axis('off')\n",
    "\n",
    "plt.tight_layout()\n",
    "plt.show()"
   ]
  },
  {
   "cell_type": "markdown",
   "id": "c89be227",
   "metadata": {},
   "source": [
    "## Diffusion Model"
   ]
  },
  {
   "cell_type": "code",
   "execution_count": null,
   "id": "e2aff1b9",
   "metadata": {},
   "outputs": [],
   "source": [
    "class DDPM_Scheduler(nn.Module):\n",
    "    def __init__(self, num_timesteps = 1000):\n",
    "        super().__init__()\n",
    "\n",
    "        self.num_timesteps=num_timesteps\n",
    "        \n",
    "        # Linear beta schedule from 1e-4 to 0.02\n",
    "        beta = torch.linspace(1e-4, 0.02, num_timesteps)\n",
    "        self.register_buffer(\"beta\", beta)\n",
    "\n",
    "        alpha = 1.0 - beta\n",
    "        self.register_buffer(\"alpha\", alpha)\n",
    "\n",
    "        # Cumulative product: alpha_hat_t = prod(alpha_1 to alpha_t)\n",
    "        alpha_hat = torch.cumprod(alpha, dim=0)\n",
    "        self.register_buffer(\"alpha_hat\", alpha_hat)\n",
    "\n",
    "    def get_params(self, t):\n",
    "        beta_t = self.beta[t].view(-1, 1, 1, 1)\n",
    "        alpha_t = self.alpha[t].view(-1, 1, 1, 1)\n",
    "        alpha_hat_t = self.alpha_hat[t].view(-1, 1, 1, 1)\n",
    "        return beta_t, alpha_t, alpha_hat_t "
   ]
  },
  {
   "cell_type": "markdown",
   "id": "2fb016b3",
   "metadata": {},
   "source": [
    "### Forward Function for Diffusion Model"
   ]
  },
  {
   "cell_type": "code",
   "execution_count": null,
   "id": "fbf28057",
   "metadata": {},
   "outputs": [],
   "source": [
    "def diffusion_forward(x0, t, e, scheduler: DDPM_Scheduler):\n",
    "    beta_t, alpha_t, alpha_hat_t = scheduler.get_params(t)\n",
    "\n",
    "    return ((torch.sqrt(alpha_hat_t) * x0) + (torch.sqrt(1 - alpha_hat_t) * e))"
   ]
  },
  {
   "cell_type": "markdown",
   "id": "8b79b1a4",
   "metadata": {},
   "source": [
    "### Reverse Function for Diffusion Model (UNet Architecture)"
   ]
  },
  {
   "cell_type": "code",
   "execution_count": null,
   "id": "dd98dc32",
   "metadata": {},
   "outputs": [],
   "source": []
  }
 ],
 "metadata": {
  "kernelspec": {
   "display_name": "base",
   "language": "python",
   "name": "python3"
  },
  "language_info": {
   "codemirror_mode": {
    "name": "ipython",
    "version": 3
   },
   "file_extension": ".py",
   "mimetype": "text/x-python",
   "name": "python",
   "nbconvert_exporter": "python",
   "pygments_lexer": "ipython3",
   "version": "3.12.7"
  }
 },
 "nbformat": 4,
 "nbformat_minor": 5
}
