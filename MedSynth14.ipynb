{
 "cells": [
  {
   "cell_type": "markdown",
   "id": "0fce639b",
   "metadata": {},
   "source": [
    "# Multi-Label Conditional Diffusion for Disease-Specific Chest X-ray Synthesis using ChestX-ray14"
   ]
  },
  {
   "cell_type": "markdown",
   "id": "6e6cb473",
   "metadata": {},
   "source": [
    "## Import the Required Libraries"
   ]
  },
  {
   "cell_type": "code",
   "execution_count": 1,
   "id": "c4d6ee1a",
   "metadata": {},
   "outputs": [
    {
     "name": "stderr",
     "output_type": "stream",
     "text": [
      "/usr/local/python/3.12.1/lib/python3.12/site-packages/tqdm/auto.py:21: TqdmWarning: IProgress not found. Please update jupyter and ipywidgets. See https://ipywidgets.readthedocs.io/en/stable/user_install.html\n",
      "  from .autonotebook import tqdm as notebook_tqdm\n"
     ]
    },
    {
     "data": {
      "text/plain": [
       "<torch._C.Generator at 0x7dba08dd3950>"
      ]
     },
     "execution_count": 1,
     "metadata": {},
     "output_type": "execute_result"
    }
   ],
   "source": [
    "import os\n",
    "import math\n",
    "import random\n",
    "import pathlib\n",
    "import numpy as np\n",
    "import pandas as pd\n",
    "from PIL import Image\n",
    "import torch\n",
    "import torch.nn as nn\n",
    "import torch.nn.functional as F\n",
    "from torch.utils.data import Dataset, DataLoader\n",
    "from torchvision import transforms\n",
    "from torchvision.utils import save_image, make_grid\n",
    "import matplotlib.pyplot as plt\n",
    "from tqdm.auto import tqdm\n",
    "%matplotlib inline\n",
    "\n",
    "# For reproducibility\n",
    "random.seed(42)\n",
    "np.random.seed(42)\n",
    "torch.manual_seed(42)"
   ]
  },
  {
   "cell_type": "markdown",
   "id": "fcb83ebe",
   "metadata": {},
   "source": [
    "## Data Preparation"
   ]
  },
  {
   "cell_type": "code",
   "execution_count": 2,
   "id": "5ae058e0",
   "metadata": {},
   "outputs": [],
   "source": [
    "# # Authenticate\n",
    "# api = KaggleApi()\n",
    "# api.authenticate()"
   ]
  },
  {
   "cell_type": "code",
   "execution_count": 3,
   "id": "3e347108",
   "metadata": {},
   "outputs": [],
   "source": [
    "# Make base directories\n",
    "base = pathlib.Path(\"./data\")"
   ]
  },
  {
   "cell_type": "code",
   "execution_count": 4,
   "id": "1bde7819",
   "metadata": {},
   "outputs": [],
   "source": [
    "# # Download & unzip into train folders\n",
    "# api.dataset_download_files(\n",
    "#     \"nih-chest-xrays/data\",\n",
    "#     path = str(base / 'train'),\n",
    "#     unzip = False\n",
    "# )"
   ]
  },
  {
   "cell_type": "code",
   "execution_count": 5,
   "id": "d1e880c2",
   "metadata": {},
   "outputs": [],
   "source": [
    "DISEASES = ['Atelectasis','Cardiomegaly','Effusion','Infiltration',\n",
    "            'Mass','Nodule','Pneumonia','Pneumothorax',\n",
    "            'Consolidation','Edema','Emphysema','Fibrosis',\n",
    "            'Pleural_Thickening','Hernia']\n",
    "\n",
    "def encode_labels(disease):\n",
    "    onehot=[0]*14\n",
    "\n",
    "    for i, d in enumerate(DISEASES):\n",
    "        if d in str(disease).split(\"|\"):\n",
    "            onehot[i] = 1\n",
    "    \n",
    "    return onehot"
   ]
  },
  {
   "cell_type": "code",
   "execution_count": 6,
   "id": "98e5bd6c",
   "metadata": {},
   "outputs": [],
   "source": [
    "train_transform = transforms.Compose([\n",
    "    transforms.Resize((256, 256)),\n",
    "    transforms.Grayscale(num_output_channels=1),\n",
    "    transforms.RandomHorizontalFlip(),\n",
    "    transforms.RandomRotation(10),\n",
    "    transforms.ToTensor(), \n",
    "    transforms.Normalize((0.5,), (0.5,))        \n",
    "])\n",
    "\n",
    "val_transform = transforms.Compose([\n",
    "    transforms.Resize((256, 256)),\n",
    "    transforms.Grayscale(num_output_channels=1),\n",
    "    transforms.ToTensor(), \n",
    "    transforms.Normalize((0.5,), (0.5,))        \n",
    "])"
   ]
  },
  {
   "cell_type": "code",
   "execution_count": 7,
   "id": "68df7bea",
   "metadata": {},
   "outputs": [],
   "source": [
    "class XRayDataset(Dataset):\n",
    "    def __init__(self, transform, root_img_dir, csv_path):\n",
    "        self.df = pd.read_csv(csv_path)\n",
    "        self.root = pathlib.Path(root_img_dir)\n",
    "        self.transform = transform \n",
    "    \n",
    "    def __len__(self):\n",
    "        return len(self.df)\n",
    "    \n",
    "    def __getitem__(self, idx):\n",
    "        row = self.df.iloc[idx]\n",
    "        img_path = self.root / row['Image Index']\n",
    "        img = Image.open(img_path).convert('L')\n",
    "\n",
    "        if self.transform: \n",
    "            img = self.transform(img)\n",
    "\n",
    "        onehot = torch.tensor(encode_labels(row['Finding Labels']),\n",
    "                              dtype=torch.float)\n",
    "\n",
    "        return img, onehot"
   ]
  },
  {
   "cell_type": "code",
   "execution_count": 8,
   "id": "532a79c8",
   "metadata": {},
   "outputs": [],
   "source": [
    "img_dir = pathlib.Path(r\"/workspaces/Multi-Label-Conditional-Diffusion-for-Disease-Specific-Chest-X-ray-Synthesis-using-ChestX-ray14/data\")\n",
    "img_file_paths = list(img_dir.glob(\"*.png\"))\n",
    "available_imgs = set()   # For fast look-up, and to ensure no duplicates\n",
    "\n",
    "for img_path in img_file_paths:\n",
    "    filename = img_path.name\n",
    "    available_imgs.add(filename)\n",
    "\n",
    "df = pd.read_csv(r\"/workspaces/Multi-Label-Conditional-Diffusion-for-Disease-Specific-Chest-X-ray-Synthesis-using-ChestX-ray14/Data_Entry_2017.csv\")\n",
    "\n",
    "# Filter only rows where image is present in your folder\n",
    "df_filtered = df[df[\"Image Index\"].isin(available_imgs)]\n",
    "\n",
    "# Save the filtered CSV\n",
    "df_filtered.to_csv(r\"/workspaces/Multi-Label-Conditional-Diffusion-for-Disease-Specific-Chest-X-ray-Synthesis-using-ChestX-ray14/sample_metadata.csv\", index=False)"
   ]
  },
  {
   "cell_type": "code",
   "execution_count": 9,
   "id": "d728c6d4",
   "metadata": {},
   "outputs": [],
   "source": [
    "bs = 32\n",
    "csv_path = r\"/workspaces/Multi-Label-Conditional-Diffusion-for-Disease-Specific-Chest-X-ray-Synthesis-using-ChestX-ray14/sample_metadata.csv\"\n",
    "root_dir = r\"/workspaces/Multi-Label-Conditional-Diffusion-for-Disease-Specific-Chest-X-ray-Synthesis-using-ChestX-ray14/data\"\n",
    "\n",
    "train_ds = XRayDataset(train_transform, root_dir, csv_path)\n",
    "train_dl = DataLoader(train_ds, batch_size=bs, shuffle=True,  num_workers=0)"
   ]
  },
  {
   "cell_type": "code",
   "execution_count": 10,
   "id": "f7e05f5e",
   "metadata": {},
   "outputs": [
    {
     "data": {
      "image/png": "[encoded data removed]",
      "text/plain": [
       "<Figure size 400x800 with 4 Axes>"
      ]
     },
     "metadata": {},
     "output_type": "display_data"
    }
   ],
   "source": [
    "imgs, labels = next(iter(train_dl))\n",
    "imgs_vis = imgs[:4]*0.5+0.5\n",
    "\n",
    "fig, axes = plt.subplots(4,1,figsize=(4,8))\n",
    "for i in range(4):\n",
    "    axes[i].imshow(imgs_vis[i].permute(1,2,0), cmap='gray')\n",
    "    title = ' '.join([d for d,flag in zip(DISEASES, labels[i]) if flag==1])\n",
    "    axes[i].set_title(title if title else 'No Finding')\n",
    "    axes[i].axis('off')\n",
    "\n",
    "plt.tight_layout()\n",
    "plt.show()"
   ]
  },
  {
   "cell_type": "markdown",
   "id": "c89be227",
   "metadata": {},
   "source": [
    "## Diffusion Model"
   ]
  },
  {
   "cell_type": "code",
   "execution_count": 11,
   "id": "e2aff1b9",
   "metadata": {},
   "outputs": [],
   "source": [
    "class DDPM_Scheduler(nn.Module):\n",
    "    def __init__(self, num_timesteps = 1000):\n",
    "        super().__init__()\n",
    "\n",
    "        self.num_timesteps=num_timesteps\n",
    "        \n",
    "        # Linear beta schedule from 1e-4 to 0.02\n",
    "        beta = torch.linspace(1e-4, 0.02, num_timesteps)\n",
    "        self.register_buffer(\"beta\", beta)\n",
    "\n",
    "        alpha = 1.0 - beta\n",
    "        self.register_buffer(\"alpha\", alpha)\n",
    "\n",
    "        # Cumulative product: alpha_hat_t = prod(alpha_1 to alpha_t)\n",
    "        alpha_hat = torch.cumprod(alpha, dim=0)\n",
    "        self.register_buffer(\"alpha_hat\", alpha_hat)\n",
    "\n",
    "    def get_params(self, t):\n",
    "        beta_t = self.beta[t].view(-1, 1, 1, 1)\n",
    "        alpha_t = self.alpha[t].view(-1, 1, 1, 1)\n",
    "        alpha_hat_t = self.alpha_hat[t].view(-1, 1, 1, 1)\n",
    "        return beta_t, alpha_t, alpha_hat_t "
   ]
  },
  {
   "cell_type": "markdown",
   "id": "2fb016b3",
   "metadata": {},
   "source": [
    "### Forward Function for Diffusion Model"
   ]
  },
  {
   "cell_type": "code",
   "execution_count": 12,
   "id": "fbf28057",
   "metadata": {},
   "outputs": [],
   "source": [
    "def diffusion_forward(x0, t, e, scheduler: DDPM_Scheduler):\n",
    "    beta_t, alpha_t, alpha_hat_t = scheduler.get_params(t)\n",
    "\n",
    "    return ((torch.sqrt(alpha_hat_t) * x0) + (torch.sqrt(1 - alpha_hat_t) * e))"
   ]
  },
  {
   "cell_type": "markdown",
   "id": "8b79b1a4",
   "metadata": {},
   "source": [
    "### Reverse Function for Diffusion Model (UNet Architecture)"
   ]
  },
  {
   "cell_type": "code",
   "execution_count": 13,
   "id": "dd98dc32",
   "metadata": {},
   "outputs": [],
   "source": [
    "class SinusoidalPosEmb(nn.Module):\n",
    "    def __init__(self, dim):\n",
    "        super().__init__()\n",
    "        self.dim = dim\n",
    "\n",
    "    def forward(self, t):\n",
    "        device = t.device\n",
    "        half_dim = self.dim // 2\n",
    "        emb = torch.exp(-math.log(10000) * torch.arange(0, half_dim, device=device) / half_dim) \n",
    "        emb = t.float().unsqueeze(1) * emb.unsqueeze(0)  \n",
    "        emb = torch.cat([torch.sin(emb), torch.cos(emb)], dim=1)\n",
    "\n",
    "        if self.dim % 2:\n",
    "            emb = F.pad(emb, (0, 1))\n",
    "            \n",
    "        return emb  # [B, dim]"
   ]
  },
  {
   "cell_type": "code",
   "execution_count": 14,
   "id": "28d1c47d",
   "metadata": {},
   "outputs": [],
   "source": [
    "class LabelEmbedding(nn.Module):\n",
    "    def __init__(self, num_labels, emb_dim):\n",
    "        super().__init__()\n",
    "        self.mlp = nn.Sequential(\n",
    "            nn.Linear(num_labels, emb_dim),\n",
    "            nn.ReLU(inplace=True),\n",
    "            nn.Linear(emb_dim, emb_dim)\n",
    "        )\n",
    "\n",
    "    def forward(self, y):\n",
    "        return self.mlp(y)"
   ]
  },
  {
   "cell_type": "code",
   "execution_count": 15,
   "id": "a2bf047f",
   "metadata": {},
   "outputs": [],
   "source": [
    "class ConditionalGroupNorm(nn.Module):\n",
    "    def __init__(self, num_features, emb_dim, num_groups=8):\n",
    "        super().__init__()\n",
    "        self.gn = nn.GroupNorm(num_groups, num_features, affine=False)\n",
    "        self.embed = nn.Linear(emb_dim, num_features * 2)\n",
    "\n",
    "    def forward(self, x, emb):\n",
    "        B, C, H, W = x.shape\n",
    "        gamma, beta = self.embed(emb).chunk(2, dim=1)\n",
    "        gamma = gamma.view(B, C, 1, 1)\n",
    "        beta = beta.view(B, C, 1, 1)\n",
    "        x = self.gn(x)\n",
    "        return x * (1 + gamma) + beta"
   ]
  },
  {
   "cell_type": "code",
   "execution_count": 16,
   "id": "19287a42",
   "metadata": {},
   "outputs": [],
   "source": [
    "class DownBlock(nn.Module):\n",
    "    def __init__(self, in_c, out_c, emb_dim):\n",
    "        super().__init__()\n",
    "        self.conv = nn.Conv2d(in_c, out_c, kernel_size=4, stride=2, padding=1)\n",
    "        self.norm = ConditionalGroupNorm(out_c, emb_dim)\n",
    "        self.act = nn.LeakyReLU(0.2, inplace=True)\n",
    "\n",
    "    def forward(self, x, emb):\n",
    "        x = self.conv(x)\n",
    "        x = self.norm(x, emb)\n",
    "        return self.act(x)"
   ]
  },
  {
   "cell_type": "code",
   "execution_count": 17,
   "id": "33b75b29",
   "metadata": {},
   "outputs": [],
   "source": [
    "class UpBlock(nn.Module):\n",
    "    def __init__(self, in_c, out_c, emb_dim):\n",
    "        super().__init__()\n",
    "        self.deconv = nn.ConvTranspose2d(in_c, out_c, kernel_size=4, stride=2, padding=1)\n",
    "        self.norm = ConditionalGroupNorm(out_c, emb_dim)\n",
    "        self.act = nn.ReLU(inplace=True)\n",
    "\n",
    "    def forward(self, x, emb):\n",
    "        x = self.deconv(x)\n",
    "        x = self.norm(x, emb)\n",
    "        return self.act(x)"
   ]
  },
  {
   "cell_type": "code",
   "execution_count": 18,
   "id": "222b4135",
   "metadata": {},
   "outputs": [],
   "source": [
    "class UNet(nn.Module):\n",
    "    def __init__(self,\n",
    "                 in_channels=1,\n",
    "                 out_channels=1,\n",
    "                 features=64,\n",
    "                 time_emb_dim=256,\n",
    "                 label_emb_dim=256,\n",
    "                 num_labels=14):\n",
    "\n",
    "        super().__init__()\n",
    "\n",
    "        # Embeddings\n",
    "        self.time_mlp = nn.Sequential(\n",
    "            SinusoidalPosEmb(time_emb_dim),\n",
    "            nn.Linear(time_emb_dim, time_emb_dim),\n",
    "            nn.ReLU(inplace=True),\n",
    "            nn.Linear(time_emb_dim, time_emb_dim)\n",
    "        )\n",
    "\n",
    "        self.label_mlp = LabelEmbedding(num_labels, label_emb_dim)\n",
    "        emb_dim = time_emb_dim  \n",
    "\n",
    "        # Encoder\n",
    "        self.down1 = DownBlock(in_channels, features, emb_dim)\n",
    "        self.down2 = DownBlock(features, features * 2, emb_dim)\n",
    "        self.down3 = DownBlock(features * 2, features * 4, emb_dim)\n",
    "        self.down4 = DownBlock(features * 4, features * 8, emb_dim)\n",
    "\n",
    "        # Bottleneck\n",
    "        self.bottleneck = nn.Sequential(\n",
    "            nn.Conv2d(features * 8, features * 8, kernel_size=4, stride=2, padding=1),\n",
    "            nn.ReLU(inplace=True)\n",
    "        )\n",
    "\n",
    "        # Decoder\n",
    "        self.up1 = UpBlock(features * 8, features * 8, emb_dim)\n",
    "        self.up2 = UpBlock(features * 8 * 2, features * 4, emb_dim)\n",
    "        self.up3 = UpBlock(features * 4 * 2, features * 2, emb_dim)\n",
    "        self.up4 = UpBlock(features * 2 * 2, features, emb_dim)\n",
    "        self.final = nn.Sequential(\n",
    "            nn.ConvTranspose2d(features * 2, out_channels, kernel_size=4, stride=2, padding=1),\n",
    "            nn.Tanh()\n",
    "        )\n",
    "\n",
    "    def forward(self, x, t, y):\n",
    "        t_emb = self.time_mlp(t)\n",
    "        y_emb = self.label_mlp(y)\n",
    "        emb = t_emb + y_emb  # [B, emb_dim]\n",
    "\n",
    "        # Encoder\n",
    "        e1 = self.down1(x, emb)\n",
    "        e2 = self.down2(e1, emb)\n",
    "        e3 = self.down3(e2, emb)\n",
    "        e4 = self.down4(e3, emb)\n",
    "\n",
    "        # Bottleneck\n",
    "        b = self.bottleneck(e4)\n",
    "\n",
    "        # Decoder with skip connections\n",
    "        d1 = self.up1(b, emb)\n",
    "        d2 = self.up2(torch.cat([d1, e4], dim=1), emb)\n",
    "        d3 = self.up3(torch.cat([d2, e3], dim=1), emb)\n",
    "        d4 = self.up4(torch.cat([d3, e2], dim=1), emb)\n",
    "\n",
    "        return self.final(torch.cat([d4, e1], dim=1))"
   ]
  },
  {
   "cell_type": "code",
   "execution_count": 19,
   "id": "f09c2eac",
   "metadata": {},
   "outputs": [],
   "source": [
    "def diffusion_reverse(x_T, t, y, noise, model, scheduler):\n",
    "    beta_t, alpha_t, alpha_hat_t = scheduler.get_params(t)\n",
    "    eps_pred = model(x_T, t, y)\n",
    "    coeff1 = 1.0 / torch.sqrt(alpha_t)\n",
    "    coeff2 = (1 - alpha_t) / torch.sqrt(1 - alpha_hat_t)\n",
    "    sigma = torch.sqrt(beta_t)\n",
    "\n",
    "    mask = (t > 0).view(-1,1,1,1).float()\n",
    "\n",
    "    if (t > 1).all(0):\n",
    "        return (((coeff1 * x_T) - (coeff1 * coeff2 * eps_pred)) + (sigma * noise * mask))"
   ]
  },
  {
   "cell_type": "code",
   "execution_count": 20,
   "id": "18c20255",
   "metadata": {},
   "outputs": [],
   "source": [
    "def sample(model, scheduler, labels, device):\n",
    "    model.eval()\n",
    "    B = labels.size(0)\n",
    "    \n",
    "    # start from pure noise\n",
    "    x = torch.randn(B, 1, 256, 256, device=device)\n",
    "\n",
    "    # iterate t = T-1 ... 0\n",
    "    for i in reversed(range(scheduler.num_timesteps)):\n",
    "        t = torch.full((B,), i, dtype=torch.long, device=device)\n",
    "        x = diffusion_reverse(x, t, labels, model, scheduler)\n",
    "\n",
    "    # clamp to valid range\n",
    "    return x.clamp(-1, 1)"
   ]
  },
  {
   "cell_type": "markdown",
   "id": "5a769951",
   "metadata": {},
   "source": [
    "### Save Generated Samples"
   ]
  },
  {
   "cell_type": "code",
   "execution_count": 21,
   "id": "16fe7e08",
   "metadata": {},
   "outputs": [],
   "source": [
    "def save_generated_samples(\n",
    "    epoch_idx: int,\n",
    "    fixed_labels: torch.Tensor,      \n",
    "    model: nn.Module,\n",
    "    scheduler: DDPM_Scheduler,\n",
    "    denorm_fn,                     \n",
    "    out_dir: str = \"generated\",\n",
    "    show: bool = False,\n",
    "    device: torch.device = None\n",
    "):\n",
    "    os.makedirs(out_dir, exist_ok=True)\n",
    "    model.eval()\n",
    "    device = device or next(model.parameters()).device\n",
    "\n",
    "    # Sample N images\n",
    "    with torch.no_grad():\n",
    "        samples = sample(model, scheduler, fixed_labels.to(device), device)\n",
    "\n",
    "    samples = denorm_fn(samples) \n",
    "\n",
    "    # Save a single grid\n",
    "    grid = make_grid(samples, nrow=8)\n",
    "    grid_fname = f\"diffusion_epoch_{epoch_idx:04d}.png\"\n",
    "    save_image(grid, os.path.join(out_dir, grid_fname))\n",
    "    print(f\"[Epoch {epoch_idx}] Saved grid → {grid_fname}\")\n",
    "\n",
    "    # Save each image + build label table\n",
    "    records = []\n",
    "    for i, (img, label_vec) in enumerate(zip(samples, fixed_labels)):\n",
    "        fn = f\"epoch{epoch_idx:04d}_sample{i:02d}.png\"\n",
    "        save_image(img, os.path.join(out_dir, fn))\n",
    "\n",
    "        # turn one‐hot into \"Atelectasis|Pneumonia\", or \"NoFinding\"\n",
    "        names = [DISEASES[j] for j,v in enumerate(label_vec) if v==1]\n",
    "        records.append({\n",
    "            \"filename\": fn,\n",
    "            \"labels\": \"|\".join(names) if names else \"NoFinding\"\n",
    "        })\n",
    "\n",
    "    # Write CSV\n",
    "    df = pd.DataFrame(records)\n",
    "    csv_name = f\"labels_epoch_{epoch_idx:04d}.csv\"\n",
    "    df.to_csv(os.path.join(out_dir, csv_name), index=False)\n",
    "    print(f\"[Epoch {epoch_idx}] Saved labels → {csv_name}\")\n",
    "\n",
    "    # display\n",
    "    if show:\n",
    "        plt.figure(figsize=(8,8))\n",
    "        plt.axis(\"off\")\n",
    "        plt.imshow(grid.permute(1,2,0))\n",
    "        plt.show()"
   ]
  },
  {
   "cell_type": "markdown",
   "id": "5290beb7",
   "metadata": {},
   "source": [
    "## Training Block"
   ]
  },
  {
   "cell_type": "code",
   "execution_count": 22,
   "id": "2ffdfe52",
   "metadata": {},
   "outputs": [],
   "source": [
    "device = torch.device(\"cuda:0\" if torch.cuda.is_available() else \"cpu\")"
   ]
  },
  {
   "cell_type": "code",
   "execution_count": 23,
   "id": "81a5c1f1",
   "metadata": {},
   "outputs": [],
   "source": [
    "# Denormalize from [-1,1] back to [0,1]\n",
    "def denorm(imgs):\n",
    "    return imgs * 0.5 + 0.5"
   ]
  },
  {
   "cell_type": "code",
   "execution_count": null,
   "id": "e9ff9e29",
   "metadata": {},
   "outputs": [],
   "source": [
    "def fit(model: nn.Module,\n",
    "        scheduler: DDPM_Scheduler,\n",
    "        train_dl: DataLoader, \n",
    "        fixed_labels: torch.Tensor,\n",
    "        epochs: int, \n",
    "        lr: float = 1e-4,\n",
    "        device = None\n",
    "        ):\n",
    "\n",
    "        model.to(device)\n",
    "        scheduler.to(device)\n",
    "        opt = torch.optim.Adam(model.parameters(), lr=lr)\n",
    "\n",
    "        for epoch in range(epochs):\n",
    "                for imgs, labels in tqdm(train_dl, desc=f\"Epoch {epoch}/{epochs-1}\"):\n",
    "                        imgs   = imgs.to(device)\n",
    "                        labels = labels.to(device)\n",
    "                        B = imgs.size(0)\n",
    "\n",
    "                        # sample random timesteps and noise\n",
    "                        t = torch.randint(0, scheduler.num_timesteps, (B,), device=device)\n",
    "                        noise = torch.randn_like(imgs)\n",
    "\n",
    "                        # forward diffuse\n",
    "                        x_t = diffusion_forward(imgs, t, noise, scheduler)\n",
    "\n",
    "                        # predict noise\n",
    "                        noise_pred = model(x_t, t, labels)\n",
    "\n",
    "                        # MSE loss\n",
    "                        loss = F.mse_loss(noise_pred, noise)\n",
    "\n",
    "                        # step\n",
    "                        opt.zero_grad()\n",
    "                        loss.backward()\n",
    "                        opt.step()\n",
    "\n",
    "        # Save generated images\n",
    "        save_generated_samples(\n",
    "                epoch_idx=epoch,\n",
    "                fixed_labels=fixed_labels,\n",
    "                model=model,\n",
    "                scheduler=scheduler,\n",
    "                denorm_fn=denorm,\n",
    "                out_dir=\"generated\",\n",
    "                show=False,\n",
    "                device=device\n",
    "                )\n",
    "\n",
    "        return model"
   ]
  },
  {
   "cell_type": "code",
   "execution_count": 25,
   "id": "b8c87e8c",
   "metadata": {},
   "outputs": [
    {
     "name": "stderr",
     "output_type": "stream",
     "text": [
      "Epoch 0/99: 100%|██████████| 3/3 [00:48<00:00, 16.17s/it]\n",
      "Epoch 1/99: 100%|██████████| 3/3 [00:48<00:00, 16.30s/it]\n",
      "Epoch 2/99: 100%|██████████| 3/3 [00:49<00:00, 16.62s/it]\n",
      "Epoch 3/99: 100%|██████████| 3/3 [00:49<00:00, 16.49s/it]\n",
      "Epoch 4/99: 100%|██████████| 3/3 [00:49<00:00, 16.49s/it]\n",
      "Epoch 5/99: 100%|██████████| 3/3 [00:49<00:00, 16.44s/it]\n",
      "Epoch 6/99: 100%|██████████| 3/3 [00:49<00:00, 16.52s/it]\n",
      "Epoch 7/99: 100%|██████████| 3/3 [00:49<00:00, 16.51s/it]\n",
      "Epoch 8/99: 100%|██████████| 3/3 [00:49<00:00, 16.40s/it]\n",
      "Epoch 9/99: 100%|██████████| 3/3 [00:49<00:00, 16.39s/it]\n",
      "Epoch 10/99: 100%|██████████| 3/3 [00:49<00:00, 16.44s/it]\n",
      "Epoch 11/99: 100%|██████████| 3/3 [00:49<00:00, 16.40s/it]\n",
      "Epoch 12/99: 100%|██████████| 3/3 [00:49<00:00, 16.52s/it]\n",
      "Epoch 13/99: 100%|██████████| 3/3 [00:49<00:00, 16.61s/it]\n",
      "Epoch 14/99: 100%|██████████| 3/3 [00:49<00:00, 16.47s/it]\n",
      "Epoch 15/99: 100%|██████████| 3/3 [00:49<00:00, 16.45s/it]\n",
      "Epoch 16/99: 100%|██████████| 3/3 [00:49<00:00, 16.53s/it]\n",
      "Epoch 17/99: 100%|██████████| 3/3 [00:49<00:00, 16.39s/it]\n",
      "Epoch 18/99: 100%|██████████| 3/3 [00:49<00:00, 16.44s/it]\n",
      "Epoch 19/99: 100%|██████████| 3/3 [00:49<00:00, 16.43s/it]\n",
      "Epoch 20/99: 100%|██████████| 3/3 [00:49<00:00, 16.44s/it]\n",
      "Epoch 21/99: 100%|██████████| 3/3 [00:49<00:00, 16.46s/it]\n",
      "Epoch 22/99: 100%|██████████| 3/3 [00:49<00:00, 16.49s/it]\n",
      "Epoch 23/99: 100%|██████████| 3/3 [00:49<00:00, 16.55s/it]\n",
      "Epoch 24/99: 100%|██████████| 3/3 [00:49<00:00, 16.50s/it]\n",
      "Epoch 25/99: 100%|██████████| 3/3 [00:49<00:00, 16.44s/it]\n",
      "Epoch 26/99: 100%|██████████| 3/3 [00:49<00:00, 16.50s/it]\n",
      "Epoch 27/99: 100%|██████████| 3/3 [00:49<00:00, 16.45s/it]\n",
      "Epoch 28/99: 100%|██████████| 3/3 [00:49<00:00, 16.42s/it]\n",
      "Epoch 29/99: 100%|██████████| 3/3 [00:49<00:00, 16.53s/it]\n",
      "Epoch 30/99: 100%|██████████| 3/3 [00:49<00:00, 16.46s/it]\n",
      "Epoch 31/99: 100%|██████████| 3/3 [00:49<00:00, 16.46s/it]\n",
      "Epoch 32/99: 100%|██████████| 3/3 [00:49<00:00, 16.44s/it]\n",
      "Epoch 33/99: 100%|██████████| 3/3 [00:49<00:00, 16.42s/it]\n",
      "Epoch 34/99: 100%|██████████| 3/3 [00:49<00:00, 16.51s/it]\n",
      "Epoch 35/99: 100%|██████████| 3/3 [00:49<00:00, 16.41s/it]\n",
      "Epoch 36/99: 100%|██████████| 3/3 [00:49<00:00, 16.54s/it]\n",
      "Epoch 37/99: 100%|██████████| 3/3 [00:49<00:00, 16.44s/it]\n",
      "Epoch 38/99: 100%|██████████| 3/3 [00:49<00:00, 16.54s/it]\n",
      "Epoch 39/99: 100%|██████████| 3/3 [00:49<00:00, 16.51s/it]\n",
      "Epoch 40/99: 100%|██████████| 3/3 [00:49<00:00, 16.46s/it]\n",
      "Epoch 41/99: 100%|██████████| 3/3 [00:49<00:00, 16.44s/it]\n",
      "Epoch 42/99: 100%|██████████| 3/3 [00:49<00:00, 16.41s/it]\n",
      "Epoch 43/99: 100%|██████████| 3/3 [00:49<00:00, 16.47s/it]\n",
      "Epoch 44/99: 100%|██████████| 3/3 [00:49<00:00, 16.43s/it]\n",
      "Epoch 45/99: 100%|██████████| 3/3 [00:49<00:00, 16.46s/it]\n",
      "Epoch 46/99: 100%|██████████| 3/3 [00:49<00:00, 16.50s/it]\n",
      "Epoch 47/99: 100%|██████████| 3/3 [00:49<00:00, 16.45s/it]\n",
      "Epoch 48/99: 100%|██████████| 3/3 [00:49<00:00, 16.49s/it]\n",
      "Epoch 49/99: 100%|██████████| 3/3 [00:49<00:00, 16.44s/it]\n",
      "Epoch 50/99: 100%|██████████| 3/3 [00:49<00:00, 16.53s/it]\n",
      "Epoch 51/99: 100%|██████████| 3/3 [00:49<00:00, 16.49s/it]\n",
      "Epoch 52/99: 100%|██████████| 3/3 [00:49<00:00, 16.51s/it]\n",
      "Epoch 53/99: 100%|██████████| 3/3 [00:49<00:00, 16.45s/it]\n",
      "Epoch 54/99: 100%|██████████| 3/3 [00:49<00:00, 16.45s/it]\n",
      "Epoch 55/99: 100%|██████████| 3/3 [00:49<00:00, 16.39s/it]\n",
      "Epoch 56/99: 100%|██████████| 3/3 [00:49<00:00, 16.42s/it]\n",
      "Epoch 57/99: 100%|██████████| 3/3 [00:49<00:00, 16.41s/it]\n",
      "Epoch 58/99: 100%|██████████| 3/3 [00:49<00:00, 16.46s/it]\n",
      "Epoch 59/99: 100%|██████████| 3/3 [00:49<00:00, 16.44s/it]\n",
      "Epoch 60/99: 100%|██████████| 3/3 [00:49<00:00, 16.41s/it]\n",
      "Epoch 61/99: 100%|██████████| 3/3 [00:49<00:00, 16.52s/it]\n",
      "Epoch 62/99: 100%|██████████| 3/3 [00:49<00:00, 16.49s/it]\n",
      "Epoch 63/99: 100%|██████████| 3/3 [00:49<00:00, 16.49s/it]\n",
      "Epoch 64/99: 100%|██████████| 3/3 [00:49<00:00, 16.40s/it]\n",
      "Epoch 65/99: 100%|██████████| 3/3 [00:49<00:00, 16.38s/it]\n",
      "Epoch 66/99: 100%|██████████| 3/3 [00:49<00:00, 16.43s/it]\n",
      "Epoch 67/99: 100%|██████████| 3/3 [00:49<00:00, 16.52s/it]\n",
      "Epoch 68/99: 100%|██████████| 3/3 [00:49<00:00, 16.41s/it]\n",
      "Epoch 69/99: 100%|██████████| 3/3 [00:49<00:00, 16.51s/it]\n",
      "Epoch 70/99: 100%|██████████| 3/3 [00:49<00:00, 16.50s/it]\n",
      "Epoch 71/99: 100%|██████████| 3/3 [00:49<00:00, 16.41s/it]\n",
      "Epoch 72/99: 100%|██████████| 3/3 [00:49<00:00, 16.43s/it]\n",
      "Epoch 73/99: 100%|██████████| 3/3 [00:49<00:00, 16.43s/it]\n",
      "Epoch 74/99: 100%|██████████| 3/3 [00:49<00:00, 16.50s/it]\n",
      "Epoch 75/99: 100%|██████████| 3/3 [00:49<00:00, 16.54s/it]\n",
      "Epoch 76/99: 100%|██████████| 3/3 [00:49<00:00, 16.42s/it]\n",
      "Epoch 77/99: 100%|██████████| 3/3 [00:49<00:00, 16.37s/it]\n",
      "Epoch 78/99: 100%|██████████| 3/3 [00:49<00:00, 16.38s/it]\n",
      "Epoch 79/99: 100%|██████████| 3/3 [00:49<00:00, 16.44s/it]\n",
      "Epoch 80/99: 100%|██████████| 3/3 [00:49<00:00, 16.46s/it]\n",
      "Epoch 81/99: 100%|██████████| 3/3 [00:49<00:00, 16.48s/it]\n",
      "Epoch 82/99: 100%|██████████| 3/3 [00:49<00:00, 16.46s/it]\n",
      "Epoch 83/99: 100%|██████████| 3/3 [00:49<00:00, 16.49s/it]\n",
      "Epoch 84/99: 100%|██████████| 3/3 [00:49<00:00, 16.43s/it]\n",
      "Epoch 85/99: 100%|██████████| 3/3 [00:49<00:00, 16.46s/it]\n",
      "Epoch 86/99: 100%|██████████| 3/3 [00:49<00:00, 16.53s/it]\n",
      "Epoch 87/99: 100%|██████████| 3/3 [00:49<00:00, 16.44s/it]\n",
      "Epoch 88/99: 100%|██████████| 3/3 [00:49<00:00, 16.48s/it]\n",
      "Epoch 89/99: 100%|██████████| 3/3 [00:49<00:00, 16.48s/it]\n",
      "Epoch 90/99: 100%|██████████| 3/3 [00:49<00:00, 16.43s/it]\n",
      "Epoch 91/99: 100%|██████████| 3/3 [00:49<00:00, 16.40s/it]\n",
      "Epoch 92/99: 100%|██████████| 3/3 [00:49<00:00, 16.43s/it]\n",
      "Epoch 93/99: 100%|██████████| 3/3 [00:49<00:00, 16.40s/it]\n",
      "Epoch 94/99: 100%|██████████| 3/3 [00:49<00:00, 16.44s/it]\n",
      "Epoch 95/99: 100%|██████████| 3/3 [00:49<00:00, 16.49s/it]\n",
      "Epoch 96/99: 100%|██████████| 3/3 [00:49<00:00, 16.44s/it]\n",
      "Epoch 97/99: 100%|██████████| 3/3 [00:50<00:00, 16.75s/it]\n",
      "Epoch 98/99: 100%|██████████| 3/3 [00:49<00:00, 16.52s/it]\n",
      "Epoch 99/99: 100%|██████████| 3/3 [00:49<00:00, 16.39s/it]\n"
     ]
    },
    {
     "ename": "TypeError",
     "evalue": "diffusion_reverse() missing 1 required positional argument: 'scheduler'",
     "output_type": "error",
     "traceback": [
      "\u001b[31m---------------------------------------------------------------------------\u001b[39m",
      "\u001b[31mTypeError\u001b[39m                                 Traceback (most recent call last)",
      "\u001b[36mCell\u001b[39m\u001b[36m \u001b[39m\u001b[32mIn[25]\u001b[39m\u001b[32m, line 9\u001b[39m\n\u001b[32m      6\u001b[39m fixed_labels = fixed_labels.to(device)\n\u001b[32m      8\u001b[39m \u001b[38;5;66;03m# Run training\u001b[39;00m\n\u001b[32m----> \u001b[39m\u001b[32m9\u001b[39m history = \u001b[43mfit\u001b[49m\u001b[43m(\u001b[49m\n\u001b[32m     10\u001b[39m \u001b[43m    \u001b[49m\u001b[43mmodel\u001b[49m\u001b[43m,\u001b[49m\u001b[43m           \u001b[49m\n\u001b[32m     11\u001b[39m \u001b[43m    \u001b[49m\u001b[43mscheduler\u001b[49m\u001b[43m,\u001b[49m\u001b[43m      \u001b[49m\n\u001b[32m     12\u001b[39m \u001b[43m    \u001b[49m\u001b[43mtrain_dl\u001b[49m\u001b[43m,\u001b[49m\u001b[43m      \u001b[49m\n\u001b[32m     13\u001b[39m \u001b[43m    \u001b[49m\u001b[43mfixed_labels\u001b[49m\u001b[43m=\u001b[49m\u001b[43mfixed_labels\u001b[49m\u001b[43m,\u001b[49m\u001b[43m \u001b[49m\n\u001b[32m     14\u001b[39m \u001b[43m    \u001b[49m\u001b[43mepochs\u001b[49m\u001b[43m   \u001b[49m\u001b[43m=\u001b[49m\u001b[43m \u001b[49m\u001b[32;43m100\u001b[39;49m\u001b[43m,\u001b[49m\u001b[43m \u001b[49m\n\u001b[32m     15\u001b[39m \u001b[43m    \u001b[49m\u001b[43mlr\u001b[49m\u001b[43m       \u001b[49m\u001b[43m=\u001b[49m\u001b[43m \u001b[49m\u001b[32;43m2e-4\u001b[39;49m\u001b[43m,\u001b[49m\n\u001b[32m     16\u001b[39m \u001b[43m    \u001b[49m\u001b[43mdevice\u001b[49m\u001b[43m   \u001b[49m\u001b[43m=\u001b[49m\u001b[43m \u001b[49m\u001b[43mdevice\u001b[49m\n\u001b[32m     17\u001b[39m \u001b[43m)\u001b[49m\n",
      "\u001b[36mCell\u001b[39m\u001b[36m \u001b[39m\u001b[32mIn[24]\u001b[39m\u001b[32m, line 39\u001b[39m, in \u001b[36mfit\u001b[39m\u001b[34m(model, scheduler, train_dl, fixed_labels, epochs, lr, device)\u001b[39m\n\u001b[32m     36\u001b[39m                 opt.step()\n\u001b[32m     38\u001b[39m \u001b[38;5;66;03m# Save generated images\u001b[39;00m\n\u001b[32m---> \u001b[39m\u001b[32m39\u001b[39m \u001b[43msave_generated_samples\u001b[49m\u001b[43m(\u001b[49m\n\u001b[32m     40\u001b[39m \u001b[43m        \u001b[49m\u001b[43mepoch_idx\u001b[49m\u001b[43m=\u001b[49m\u001b[43mepoch\u001b[49m\u001b[43m,\u001b[49m\n\u001b[32m     41\u001b[39m \u001b[43m        \u001b[49m\u001b[43mfixed_labels\u001b[49m\u001b[43m=\u001b[49m\u001b[43mfixed_labels\u001b[49m\u001b[43m,\u001b[49m\n\u001b[32m     42\u001b[39m \u001b[43m        \u001b[49m\u001b[43mmodel\u001b[49m\u001b[43m=\u001b[49m\u001b[43mmodel\u001b[49m\u001b[43m,\u001b[49m\n\u001b[32m     43\u001b[39m \u001b[43m        \u001b[49m\u001b[43mscheduler\u001b[49m\u001b[43m=\u001b[49m\u001b[43mscheduler\u001b[49m\u001b[43m,\u001b[49m\n\u001b[32m     44\u001b[39m \u001b[43m        \u001b[49m\u001b[43mdenorm_fn\u001b[49m\u001b[43m=\u001b[49m\u001b[43mdenorm\u001b[49m\u001b[43m,\u001b[49m\n\u001b[32m     45\u001b[39m \u001b[43m        \u001b[49m\u001b[43mout_dir\u001b[49m\u001b[43m=\u001b[49m\u001b[33;43m\"\u001b[39;49m\u001b[33;43mgenerated\u001b[39;49m\u001b[33;43m\"\u001b[39;49m\u001b[43m,\u001b[49m\n\u001b[32m     46\u001b[39m \u001b[43m        \u001b[49m\u001b[43mshow\u001b[49m\u001b[43m=\u001b[49m\u001b[38;5;28;43;01mFalse\u001b[39;49;00m\u001b[43m,\u001b[49m\n\u001b[32m     47\u001b[39m \u001b[43m        \u001b[49m\u001b[43mdevice\u001b[49m\u001b[43m=\u001b[49m\u001b[43mdevice\u001b[49m\n\u001b[32m     48\u001b[39m \u001b[43m        \u001b[49m\u001b[43m)\u001b[49m\n\u001b[32m     50\u001b[39m \u001b[38;5;28;01mreturn\u001b[39;00m model\n",
      "\u001b[36mCell\u001b[39m\u001b[36m \u001b[39m\u001b[32mIn[21]\u001b[39m\u001b[32m, line 17\u001b[39m, in \u001b[36msave_generated_samples\u001b[39m\u001b[34m(epoch_idx, fixed_labels, model, scheduler, denorm_fn, out_dir, show, device)\u001b[39m\n\u001b[32m     15\u001b[39m \u001b[38;5;66;03m# Sample N images\u001b[39;00m\n\u001b[32m     16\u001b[39m \u001b[38;5;28;01mwith\u001b[39;00m torch.no_grad():\n\u001b[32m---> \u001b[39m\u001b[32m17\u001b[39m     samples = \u001b[43msample\u001b[49m\u001b[43m(\u001b[49m\u001b[43mmodel\u001b[49m\u001b[43m,\u001b[49m\u001b[43m \u001b[49m\u001b[43mscheduler\u001b[49m\u001b[43m,\u001b[49m\u001b[43m \u001b[49m\u001b[43mfixed_labels\u001b[49m\u001b[43m.\u001b[49m\u001b[43mto\u001b[49m\u001b[43m(\u001b[49m\u001b[43mdevice\u001b[49m\u001b[43m)\u001b[49m\u001b[43m,\u001b[49m\u001b[43m \u001b[49m\u001b[43mdevice\u001b[49m\u001b[43m)\u001b[49m\n\u001b[32m     19\u001b[39m samples = denorm_fn(samples) \n\u001b[32m     21\u001b[39m \u001b[38;5;66;03m# Save a single grid\u001b[39;00m\n",
      "\u001b[36mCell\u001b[39m\u001b[36m \u001b[39m\u001b[32mIn[20]\u001b[39m\u001b[32m, line 11\u001b[39m, in \u001b[36msample\u001b[39m\u001b[34m(model, scheduler, labels, device)\u001b[39m\n\u001b[32m      9\u001b[39m \u001b[38;5;28;01mfor\u001b[39;00m i \u001b[38;5;129;01min\u001b[39;00m \u001b[38;5;28mreversed\u001b[39m(\u001b[38;5;28mrange\u001b[39m(scheduler.num_timesteps)):\n\u001b[32m     10\u001b[39m     t = torch.full((B,), i, dtype=torch.long, device=device)\n\u001b[32m---> \u001b[39m\u001b[32m11\u001b[39m     x = \u001b[43mdiffusion_reverse\u001b[49m\u001b[43m(\u001b[49m\u001b[43mx\u001b[49m\u001b[43m,\u001b[49m\u001b[43m \u001b[49m\u001b[43mt\u001b[49m\u001b[43m,\u001b[49m\u001b[43m \u001b[49m\u001b[43mlabels\u001b[49m\u001b[43m,\u001b[49m\u001b[43m \u001b[49m\u001b[43mmodel\u001b[49m\u001b[43m,\u001b[49m\u001b[43m \u001b[49m\u001b[43mscheduler\u001b[49m\u001b[43m)\u001b[49m\n\u001b[32m     13\u001b[39m \u001b[38;5;66;03m# clamp to valid range\u001b[39;00m\n\u001b[32m     14\u001b[39m \u001b[38;5;28;01mreturn\u001b[39;00m x.clamp(-\u001b[32m1\u001b[39m, \u001b[32m1\u001b[39m)\n",
      "\u001b[31mTypeError\u001b[39m: diffusion_reverse() missing 1 required positional argument: 'scheduler'"
     ]
    }
   ],
   "source": [
    "model     = UNet().to(device)\n",
    "scheduler = DDPM_Scheduler().to(device)\n",
    "\n",
    "# Grab a fixed batch of labels for monitoring samples\n",
    "fixed_imgs, fixed_labels = next(iter(train_dl))\n",
    "fixed_labels = fixed_labels.to(device)\n",
    "\n",
    "# Run training\n",
    "history = fit(\n",
    "    model,           \n",
    "    scheduler,      \n",
    "    train_dl,      \n",
    "    fixed_labels=fixed_labels, \n",
    "    epochs   = 100, \n",
    "    lr       = 2e-4,\n",
    "    device   = device\n",
    ")"
   ]
  },
  {
   "cell_type": "code",
   "execution_count": null,
   "id": "119e8359",
   "metadata": {},
   "outputs": [],
   "source": []
  }
 ],
 "metadata": {
  "kernelspec": {
   "display_name": "Python 3",
   "language": "python",
   "name": "python3"
  },
  "language_info": {
   "codemirror_mode": {
    "name": "ipython",
    "version": 3
   },
   "file_extension": ".py",
   "mimetype": "text/x-python",
   "name": "python",
   "nbconvert_exporter": "python",
   "pygments_lexer": "ipython3",
   "version": "3.12.1"
  }
 },
 "nbformat": 4,
 "nbformat_minor": 5
}
